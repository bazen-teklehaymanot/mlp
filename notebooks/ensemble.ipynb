{
  "cells": [
    {
      "cell_type": "markdown",
      "metadata": {
        "id": "KeyL3jFVSvCr"
      },
      "source": [
        "###  Classification Targets\n",
        "\n",
        "Target - the target is an ordinal variable indicating groups of income levels.\n",
        "\n",
        "1 = extreme poverty \\\n",
        "2 = moderate poverty \\\n",
        "3 = vulnerable households \\\n",
        "4 = non vulnerable households\n",
        "\n",
        "\n",
        "https://www.kaggle.com/competitions/costa-rican-household-poverty-prediction/data"
      ]
    },
    {
      "cell_type": "markdown",
      "metadata": {},
      "source": [
        "### Setup"
      ]
    },
    {
      "cell_type": "code",
      "execution_count": 1,
      "metadata": {},
      "outputs": [
        {
          "name": "stdout",
          "output_type": "stream",
          "text": [
            "Note: you may need to restart the kernel to use updated packages.\n"
          ]
        }
      ],
      "source": [
        "%pip install -r ../requirements.txt -q"
      ]
    },
    {
      "cell_type": "markdown",
      "metadata": {
        "id": "7AhcxpWhS2u0"
      },
      "source": [
        "### Data Preparation"
      ]
    },
    {
      "cell_type": "code",
      "execution_count": 2,
      "metadata": {},
      "outputs": [],
      "source": [
        "import pandas as pd\n",
        "import numpy as np\n",
        "from plotnine import *\n",
        "from sklearn.metrics import classification_report\n",
        "from sklearn.model_selection import train_test_split\n",
        "import matplotlib.pyplot as plt"
      ]
    },
    {
      "cell_type": "code",
      "execution_count": 3,
      "metadata": {},
      "outputs": [],
      "source": [
        "data_dir = '../data/'\n",
        "test_csv = data_dir + 'test.csv'\n",
        "train_csv = data_dir + 'train.csv'\n",
        "prediction_column = \"Target\""
      ]
    },
    {
      "cell_type": "markdown",
      "metadata": {},
      "source": [
        "### Data Preparation"
      ]
    },
    {
      "cell_type": "code",
      "execution_count": 4,
      "metadata": {
        "id": "DqDMzSbtSzyp"
      },
      "outputs": [],
      "source": [
        "from sklearn.impute import SimpleImputer\n",
        "from sklearn.preprocessing import OneHotEncoder\n",
        "from sklearn.pipeline import Pipeline\n",
        "from sklearn.compose import ColumnTransformer\n",
        "\n",
        "\n",
        "def onehot_encoding(data):\n",
        "    data = data[:]\n",
        "    encoder = OneHotEncoder()\n",
        "    encoder.fit(data)\n",
        "    return encoder.transform(data).toarray()\n",
        "\n",
        "def preprocess(data):\n",
        "    encoder = OneHotEncoder()\n",
        "    data = data.dropna()\n",
        "    return encoder.fit_transform(data).toarray()\n",
        "\n",
        "\n",
        "def prepare(csv_path = None, data = None):\n",
        "    if csv_path is None and data is None:\n",
        "        raise ValueError(\"Either csv_path or data must be provided\")\n",
        "    if csv_path is not None and data is not None:\n",
        "        raise ValueError(\"Only one of csv_path or data must be provided\")\n",
        "    raw_data = None\n",
        "    if csv_path is not None:\n",
        "        raw_data = pd.read_csv(csv_path)\n",
        "    else:\n",
        "        raw_data = data  \n",
        "    return onehot_encoding(raw_data)"
      ]
    },
    {
      "cell_type": "code",
      "execution_count": 5,
      "metadata": {},
      "outputs": [
        {
          "data": {
            "text/html": [
              "<div>\n",
              "<style scoped>\n",
              "    .dataframe tbody tr th:only-of-type {\n",
              "        vertical-align: middle;\n",
              "    }\n",
              "\n",
              "    .dataframe tbody tr th {\n",
              "        vertical-align: top;\n",
              "    }\n",
              "\n",
              "    .dataframe thead th {\n",
              "        text-align: right;\n",
              "    }\n",
              "</style>\n",
              "<table border=\"1\" class=\"dataframe\">\n",
              "  <thead>\n",
              "    <tr style=\"text-align: right;\">\n",
              "      <th></th>\n",
              "      <th>Id</th>\n",
              "      <th>v2a1</th>\n",
              "      <th>hacdor</th>\n",
              "      <th>rooms</th>\n",
              "      <th>hacapo</th>\n",
              "      <th>v14a</th>\n",
              "      <th>refrig</th>\n",
              "      <th>v18q</th>\n",
              "      <th>v18q1</th>\n",
              "      <th>r4h1</th>\n",
              "      <th>...</th>\n",
              "      <th>age</th>\n",
              "      <th>SQBescolari</th>\n",
              "      <th>SQBage</th>\n",
              "      <th>SQBhogar_total</th>\n",
              "      <th>SQBedjefe</th>\n",
              "      <th>SQBhogar_nin</th>\n",
              "      <th>SQBovercrowding</th>\n",
              "      <th>SQBdependency</th>\n",
              "      <th>SQBmeaned</th>\n",
              "      <th>agesq</th>\n",
              "    </tr>\n",
              "  </thead>\n",
              "  <tbody>\n",
              "    <tr>\n",
              "      <th>count</th>\n",
              "      <td>9557</td>\n",
              "      <td>2.697000e+03</td>\n",
              "      <td>9557.000000</td>\n",
              "      <td>9557.000000</td>\n",
              "      <td>9557.000000</td>\n",
              "      <td>9557.000000</td>\n",
              "      <td>9557.000000</td>\n",
              "      <td>9557.000000</td>\n",
              "      <td>2215.000000</td>\n",
              "      <td>9557.000000</td>\n",
              "      <td>...</td>\n",
              "      <td>9557.000000</td>\n",
              "      <td>9557.000000</td>\n",
              "      <td>9557.000000</td>\n",
              "      <td>9557.000000</td>\n",
              "      <td>9557.000000</td>\n",
              "      <td>9557.000000</td>\n",
              "      <td>9557.000000</td>\n",
              "      <td>9557.000000</td>\n",
              "      <td>9552.000000</td>\n",
              "      <td>9557.000000</td>\n",
              "    </tr>\n",
              "    <tr>\n",
              "      <th>unique</th>\n",
              "      <td>9557</td>\n",
              "      <td>NaN</td>\n",
              "      <td>NaN</td>\n",
              "      <td>NaN</td>\n",
              "      <td>NaN</td>\n",
              "      <td>NaN</td>\n",
              "      <td>NaN</td>\n",
              "      <td>NaN</td>\n",
              "      <td>NaN</td>\n",
              "      <td>NaN</td>\n",
              "      <td>...</td>\n",
              "      <td>NaN</td>\n",
              "      <td>NaN</td>\n",
              "      <td>NaN</td>\n",
              "      <td>NaN</td>\n",
              "      <td>NaN</td>\n",
              "      <td>NaN</td>\n",
              "      <td>NaN</td>\n",
              "      <td>NaN</td>\n",
              "      <td>NaN</td>\n",
              "      <td>NaN</td>\n",
              "    </tr>\n",
              "    <tr>\n",
              "      <th>top</th>\n",
              "      <td>ID_279628684</td>\n",
              "      <td>NaN</td>\n",
              "      <td>NaN</td>\n",
              "      <td>NaN</td>\n",
              "      <td>NaN</td>\n",
              "      <td>NaN</td>\n",
              "      <td>NaN</td>\n",
              "      <td>NaN</td>\n",
              "      <td>NaN</td>\n",
              "      <td>NaN</td>\n",
              "      <td>...</td>\n",
              "      <td>NaN</td>\n",
              "      <td>NaN</td>\n",
              "      <td>NaN</td>\n",
              "      <td>NaN</td>\n",
              "      <td>NaN</td>\n",
              "      <td>NaN</td>\n",
              "      <td>NaN</td>\n",
              "      <td>NaN</td>\n",
              "      <td>NaN</td>\n",
              "      <td>NaN</td>\n",
              "    </tr>\n",
              "    <tr>\n",
              "      <th>freq</th>\n",
              "      <td>1</td>\n",
              "      <td>NaN</td>\n",
              "      <td>NaN</td>\n",
              "      <td>NaN</td>\n",
              "      <td>NaN</td>\n",
              "      <td>NaN</td>\n",
              "      <td>NaN</td>\n",
              "      <td>NaN</td>\n",
              "      <td>NaN</td>\n",
              "      <td>NaN</td>\n",
              "      <td>...</td>\n",
              "      <td>NaN</td>\n",
              "      <td>NaN</td>\n",
              "      <td>NaN</td>\n",
              "      <td>NaN</td>\n",
              "      <td>NaN</td>\n",
              "      <td>NaN</td>\n",
              "      <td>NaN</td>\n",
              "      <td>NaN</td>\n",
              "      <td>NaN</td>\n",
              "      <td>NaN</td>\n",
              "    </tr>\n",
              "    <tr>\n",
              "      <th>mean</th>\n",
              "      <td>NaN</td>\n",
              "      <td>1.652316e+05</td>\n",
              "      <td>0.038087</td>\n",
              "      <td>4.955530</td>\n",
              "      <td>0.023648</td>\n",
              "      <td>0.994768</td>\n",
              "      <td>0.957623</td>\n",
              "      <td>0.231767</td>\n",
              "      <td>1.404063</td>\n",
              "      <td>0.385895</td>\n",
              "      <td>...</td>\n",
              "      <td>34.303547</td>\n",
              "      <td>74.222769</td>\n",
              "      <td>1643.774302</td>\n",
              "      <td>19.132887</td>\n",
              "      <td>53.500262</td>\n",
              "      <td>3.844826</td>\n",
              "      <td>3.249485</td>\n",
              "      <td>3.900409</td>\n",
              "      <td>102.588867</td>\n",
              "      <td>1643.774302</td>\n",
              "    </tr>\n",
              "    <tr>\n",
              "      <th>std</th>\n",
              "      <td>NaN</td>\n",
              "      <td>1.504571e+05</td>\n",
              "      <td>0.191417</td>\n",
              "      <td>1.468381</td>\n",
              "      <td>0.151957</td>\n",
              "      <td>0.072145</td>\n",
              "      <td>0.201459</td>\n",
              "      <td>0.421983</td>\n",
              "      <td>0.763131</td>\n",
              "      <td>0.680779</td>\n",
              "      <td>...</td>\n",
              "      <td>21.612261</td>\n",
              "      <td>76.777549</td>\n",
              "      <td>1741.197050</td>\n",
              "      <td>18.751395</td>\n",
              "      <td>78.445804</td>\n",
              "      <td>6.946296</td>\n",
              "      <td>4.129547</td>\n",
              "      <td>12.511831</td>\n",
              "      <td>93.516890</td>\n",
              "      <td>1741.197050</td>\n",
              "    </tr>\n",
              "    <tr>\n",
              "      <th>min</th>\n",
              "      <td>NaN</td>\n",
              "      <td>0.000000e+00</td>\n",
              "      <td>0.000000</td>\n",
              "      <td>1.000000</td>\n",
              "      <td>0.000000</td>\n",
              "      <td>0.000000</td>\n",
              "      <td>0.000000</td>\n",
              "      <td>0.000000</td>\n",
              "      <td>1.000000</td>\n",
              "      <td>0.000000</td>\n",
              "      <td>...</td>\n",
              "      <td>0.000000</td>\n",
              "      <td>0.000000</td>\n",
              "      <td>0.000000</td>\n",
              "      <td>1.000000</td>\n",
              "      <td>0.000000</td>\n",
              "      <td>0.000000</td>\n",
              "      <td>0.040000</td>\n",
              "      <td>0.000000</td>\n",
              "      <td>0.000000</td>\n",
              "      <td>0.000000</td>\n",
              "    </tr>\n",
              "    <tr>\n",
              "      <th>25%</th>\n",
              "      <td>NaN</td>\n",
              "      <td>8.000000e+04</td>\n",
              "      <td>0.000000</td>\n",
              "      <td>4.000000</td>\n",
              "      <td>0.000000</td>\n",
              "      <td>1.000000</td>\n",
              "      <td>1.000000</td>\n",
              "      <td>0.000000</td>\n",
              "      <td>1.000000</td>\n",
              "      <td>0.000000</td>\n",
              "      <td>...</td>\n",
              "      <td>17.000000</td>\n",
              "      <td>16.000000</td>\n",
              "      <td>289.000000</td>\n",
              "      <td>9.000000</td>\n",
              "      <td>0.000000</td>\n",
              "      <td>0.000000</td>\n",
              "      <td>1.000000</td>\n",
              "      <td>0.111111</td>\n",
              "      <td>36.000000</td>\n",
              "      <td>289.000000</td>\n",
              "    </tr>\n",
              "    <tr>\n",
              "      <th>50%</th>\n",
              "      <td>NaN</td>\n",
              "      <td>1.300000e+05</td>\n",
              "      <td>0.000000</td>\n",
              "      <td>5.000000</td>\n",
              "      <td>0.000000</td>\n",
              "      <td>1.000000</td>\n",
              "      <td>1.000000</td>\n",
              "      <td>0.000000</td>\n",
              "      <td>1.000000</td>\n",
              "      <td>0.000000</td>\n",
              "      <td>...</td>\n",
              "      <td>31.000000</td>\n",
              "      <td>36.000000</td>\n",
              "      <td>961.000000</td>\n",
              "      <td>16.000000</td>\n",
              "      <td>36.000000</td>\n",
              "      <td>1.000000</td>\n",
              "      <td>2.250000</td>\n",
              "      <td>0.444444</td>\n",
              "      <td>81.000000</td>\n",
              "      <td>961.000000</td>\n",
              "    </tr>\n",
              "    <tr>\n",
              "      <th>75%</th>\n",
              "      <td>NaN</td>\n",
              "      <td>2.000000e+05</td>\n",
              "      <td>0.000000</td>\n",
              "      <td>6.000000</td>\n",
              "      <td>0.000000</td>\n",
              "      <td>1.000000</td>\n",
              "      <td>1.000000</td>\n",
              "      <td>0.000000</td>\n",
              "      <td>2.000000</td>\n",
              "      <td>1.000000</td>\n",
              "      <td>...</td>\n",
              "      <td>51.000000</td>\n",
              "      <td>121.000000</td>\n",
              "      <td>2601.000000</td>\n",
              "      <td>25.000000</td>\n",
              "      <td>81.000000</td>\n",
              "      <td>4.000000</td>\n",
              "      <td>4.000000</td>\n",
              "      <td>1.777778</td>\n",
              "      <td>134.560010</td>\n",
              "      <td>2601.000000</td>\n",
              "    </tr>\n",
              "    <tr>\n",
              "      <th>max</th>\n",
              "      <td>NaN</td>\n",
              "      <td>2.353477e+06</td>\n",
              "      <td>1.000000</td>\n",
              "      <td>11.000000</td>\n",
              "      <td>1.000000</td>\n",
              "      <td>1.000000</td>\n",
              "      <td>1.000000</td>\n",
              "      <td>1.000000</td>\n",
              "      <td>6.000000</td>\n",
              "      <td>5.000000</td>\n",
              "      <td>...</td>\n",
              "      <td>97.000000</td>\n",
              "      <td>441.000000</td>\n",
              "      <td>9409.000000</td>\n",
              "      <td>169.000000</td>\n",
              "      <td>441.000000</td>\n",
              "      <td>81.000000</td>\n",
              "      <td>36.000000</td>\n",
              "      <td>64.000000</td>\n",
              "      <td>1369.000000</td>\n",
              "      <td>9409.000000</td>\n",
              "    </tr>\n",
              "  </tbody>\n",
              "</table>\n",
              "<p>11 rows × 142 columns</p>\n",
              "</div>"
            ],
            "text/plain": [
              "                  Id          v2a1       hacdor        rooms       hacapo  \\\n",
              "count           9557  2.697000e+03  9557.000000  9557.000000  9557.000000   \n",
              "unique          9557           NaN          NaN          NaN          NaN   \n",
              "top     ID_279628684           NaN          NaN          NaN          NaN   \n",
              "freq               1           NaN          NaN          NaN          NaN   \n",
              "mean             NaN  1.652316e+05     0.038087     4.955530     0.023648   \n",
              "std              NaN  1.504571e+05     0.191417     1.468381     0.151957   \n",
              "min              NaN  0.000000e+00     0.000000     1.000000     0.000000   \n",
              "25%              NaN  8.000000e+04     0.000000     4.000000     0.000000   \n",
              "50%              NaN  1.300000e+05     0.000000     5.000000     0.000000   \n",
              "75%              NaN  2.000000e+05     0.000000     6.000000     0.000000   \n",
              "max              NaN  2.353477e+06     1.000000    11.000000     1.000000   \n",
              "\n",
              "               v14a       refrig         v18q        v18q1         r4h1  ...  \\\n",
              "count   9557.000000  9557.000000  9557.000000  2215.000000  9557.000000  ...   \n",
              "unique          NaN          NaN          NaN          NaN          NaN  ...   \n",
              "top             NaN          NaN          NaN          NaN          NaN  ...   \n",
              "freq            NaN          NaN          NaN          NaN          NaN  ...   \n",
              "mean       0.994768     0.957623     0.231767     1.404063     0.385895  ...   \n",
              "std        0.072145     0.201459     0.421983     0.763131     0.680779  ...   \n",
              "min        0.000000     0.000000     0.000000     1.000000     0.000000  ...   \n",
              "25%        1.000000     1.000000     0.000000     1.000000     0.000000  ...   \n",
              "50%        1.000000     1.000000     0.000000     1.000000     0.000000  ...   \n",
              "75%        1.000000     1.000000     0.000000     2.000000     1.000000  ...   \n",
              "max        1.000000     1.000000     1.000000     6.000000     5.000000  ...   \n",
              "\n",
              "                age  SQBescolari       SQBage  SQBhogar_total    SQBedjefe  \\\n",
              "count   9557.000000  9557.000000  9557.000000     9557.000000  9557.000000   \n",
              "unique          NaN          NaN          NaN             NaN          NaN   \n",
              "top             NaN          NaN          NaN             NaN          NaN   \n",
              "freq            NaN          NaN          NaN             NaN          NaN   \n",
              "mean      34.303547    74.222769  1643.774302       19.132887    53.500262   \n",
              "std       21.612261    76.777549  1741.197050       18.751395    78.445804   \n",
              "min        0.000000     0.000000     0.000000        1.000000     0.000000   \n",
              "25%       17.000000    16.000000   289.000000        9.000000     0.000000   \n",
              "50%       31.000000    36.000000   961.000000       16.000000    36.000000   \n",
              "75%       51.000000   121.000000  2601.000000       25.000000    81.000000   \n",
              "max       97.000000   441.000000  9409.000000      169.000000   441.000000   \n",
              "\n",
              "        SQBhogar_nin  SQBovercrowding  SQBdependency    SQBmeaned        agesq  \n",
              "count    9557.000000      9557.000000    9557.000000  9552.000000  9557.000000  \n",
              "unique           NaN              NaN            NaN          NaN          NaN  \n",
              "top              NaN              NaN            NaN          NaN          NaN  \n",
              "freq             NaN              NaN            NaN          NaN          NaN  \n",
              "mean        3.844826         3.249485       3.900409   102.588867  1643.774302  \n",
              "std         6.946296         4.129547      12.511831    93.516890  1741.197050  \n",
              "min         0.000000         0.040000       0.000000     0.000000     0.000000  \n",
              "25%         0.000000         1.000000       0.111111    36.000000   289.000000  \n",
              "50%         1.000000         2.250000       0.444444    81.000000   961.000000  \n",
              "75%         4.000000         4.000000       1.777778   134.560010  2601.000000  \n",
              "max        81.000000        36.000000      64.000000  1369.000000  9409.000000  \n",
              "\n",
              "[11 rows x 142 columns]"
            ]
          },
          "execution_count": 5,
          "metadata": {},
          "output_type": "execute_result"
        }
      ],
      "source": [
        "data = pd.read_csv(train_csv)\n",
        "target = data[prediction_column]\n",
        "data = data.drop(columns=[prediction_column])\n",
        "data.describe(include = 'all')"
      ]
    },
    {
      "cell_type": "code",
      "execution_count": 6,
      "metadata": {},
      "outputs": [
        {
          "data": {
            "text/html": [
              "<div>\n",
              "<style scoped>\n",
              "    .dataframe tbody tr th:only-of-type {\n",
              "        vertical-align: middle;\n",
              "    }\n",
              "\n",
              "    .dataframe tbody tr th {\n",
              "        vertical-align: top;\n",
              "    }\n",
              "\n",
              "    .dataframe thead th {\n",
              "        text-align: right;\n",
              "    }\n",
              "</style>\n",
              "<table border=\"1\" class=\"dataframe\">\n",
              "  <thead>\n",
              "    <tr style=\"text-align: right;\">\n",
              "      <th></th>\n",
              "      <th>Id</th>\n",
              "      <th>v2a1</th>\n",
              "      <th>hacdor</th>\n",
              "      <th>rooms</th>\n",
              "      <th>hacapo</th>\n",
              "      <th>v14a</th>\n",
              "      <th>refrig</th>\n",
              "      <th>v18q</th>\n",
              "      <th>v18q1</th>\n",
              "      <th>r4h1</th>\n",
              "      <th>...</th>\n",
              "      <th>SQBescolari</th>\n",
              "      <th>SQBage</th>\n",
              "      <th>SQBhogar_total</th>\n",
              "      <th>SQBedjefe</th>\n",
              "      <th>SQBhogar_nin</th>\n",
              "      <th>SQBovercrowding</th>\n",
              "      <th>SQBdependency</th>\n",
              "      <th>SQBmeaned</th>\n",
              "      <th>agesq</th>\n",
              "      <th>Target</th>\n",
              "    </tr>\n",
              "  </thead>\n",
              "  <tbody>\n",
              "    <tr>\n",
              "      <th>count</th>\n",
              "      <td>9557</td>\n",
              "      <td>2.697000e+03</td>\n",
              "      <td>9557.000000</td>\n",
              "      <td>9557.000000</td>\n",
              "      <td>9557.000000</td>\n",
              "      <td>9557.000000</td>\n",
              "      <td>9557.000000</td>\n",
              "      <td>9557.000000</td>\n",
              "      <td>2215.000000</td>\n",
              "      <td>9557.000000</td>\n",
              "      <td>...</td>\n",
              "      <td>9557.000000</td>\n",
              "      <td>9557.000000</td>\n",
              "      <td>9557.000000</td>\n",
              "      <td>9557.000000</td>\n",
              "      <td>9557.000000</td>\n",
              "      <td>9557.000000</td>\n",
              "      <td>9557.000000</td>\n",
              "      <td>9552.000000</td>\n",
              "      <td>9557.000000</td>\n",
              "      <td>9557.000000</td>\n",
              "    </tr>\n",
              "    <tr>\n",
              "      <th>unique</th>\n",
              "      <td>9557</td>\n",
              "      <td>NaN</td>\n",
              "      <td>NaN</td>\n",
              "      <td>NaN</td>\n",
              "      <td>NaN</td>\n",
              "      <td>NaN</td>\n",
              "      <td>NaN</td>\n",
              "      <td>NaN</td>\n",
              "      <td>NaN</td>\n",
              "      <td>NaN</td>\n",
              "      <td>...</td>\n",
              "      <td>NaN</td>\n",
              "      <td>NaN</td>\n",
              "      <td>NaN</td>\n",
              "      <td>NaN</td>\n",
              "      <td>NaN</td>\n",
              "      <td>NaN</td>\n",
              "      <td>NaN</td>\n",
              "      <td>NaN</td>\n",
              "      <td>NaN</td>\n",
              "      <td>NaN</td>\n",
              "    </tr>\n",
              "    <tr>\n",
              "      <th>top</th>\n",
              "      <td>ID_279628684</td>\n",
              "      <td>NaN</td>\n",
              "      <td>NaN</td>\n",
              "      <td>NaN</td>\n",
              "      <td>NaN</td>\n",
              "      <td>NaN</td>\n",
              "      <td>NaN</td>\n",
              "      <td>NaN</td>\n",
              "      <td>NaN</td>\n",
              "      <td>NaN</td>\n",
              "      <td>...</td>\n",
              "      <td>NaN</td>\n",
              "      <td>NaN</td>\n",
              "      <td>NaN</td>\n",
              "      <td>NaN</td>\n",
              "      <td>NaN</td>\n",
              "      <td>NaN</td>\n",
              "      <td>NaN</td>\n",
              "      <td>NaN</td>\n",
              "      <td>NaN</td>\n",
              "      <td>NaN</td>\n",
              "    </tr>\n",
              "    <tr>\n",
              "      <th>freq</th>\n",
              "      <td>1</td>\n",
              "      <td>NaN</td>\n",
              "      <td>NaN</td>\n",
              "      <td>NaN</td>\n",
              "      <td>NaN</td>\n",
              "      <td>NaN</td>\n",
              "      <td>NaN</td>\n",
              "      <td>NaN</td>\n",
              "      <td>NaN</td>\n",
              "      <td>NaN</td>\n",
              "      <td>...</td>\n",
              "      <td>NaN</td>\n",
              "      <td>NaN</td>\n",
              "      <td>NaN</td>\n",
              "      <td>NaN</td>\n",
              "      <td>NaN</td>\n",
              "      <td>NaN</td>\n",
              "      <td>NaN</td>\n",
              "      <td>NaN</td>\n",
              "      <td>NaN</td>\n",
              "      <td>NaN</td>\n",
              "    </tr>\n",
              "    <tr>\n",
              "      <th>mean</th>\n",
              "      <td>NaN</td>\n",
              "      <td>1.652316e+05</td>\n",
              "      <td>0.038087</td>\n",
              "      <td>4.955530</td>\n",
              "      <td>0.023648</td>\n",
              "      <td>0.994768</td>\n",
              "      <td>0.957623</td>\n",
              "      <td>0.231767</td>\n",
              "      <td>1.404063</td>\n",
              "      <td>0.385895</td>\n",
              "      <td>...</td>\n",
              "      <td>74.222769</td>\n",
              "      <td>1643.774302</td>\n",
              "      <td>19.132887</td>\n",
              "      <td>53.500262</td>\n",
              "      <td>3.844826</td>\n",
              "      <td>3.249485</td>\n",
              "      <td>3.900409</td>\n",
              "      <td>102.588867</td>\n",
              "      <td>1643.774302</td>\n",
              "      <td>3.302292</td>\n",
              "    </tr>\n",
              "    <tr>\n",
              "      <th>std</th>\n",
              "      <td>NaN</td>\n",
              "      <td>1.504571e+05</td>\n",
              "      <td>0.191417</td>\n",
              "      <td>1.468381</td>\n",
              "      <td>0.151957</td>\n",
              "      <td>0.072145</td>\n",
              "      <td>0.201459</td>\n",
              "      <td>0.421983</td>\n",
              "      <td>0.763131</td>\n",
              "      <td>0.680779</td>\n",
              "      <td>...</td>\n",
              "      <td>76.777549</td>\n",
              "      <td>1741.197050</td>\n",
              "      <td>18.751395</td>\n",
              "      <td>78.445804</td>\n",
              "      <td>6.946296</td>\n",
              "      <td>4.129547</td>\n",
              "      <td>12.511831</td>\n",
              "      <td>93.516890</td>\n",
              "      <td>1741.197050</td>\n",
              "      <td>1.009565</td>\n",
              "    </tr>\n",
              "    <tr>\n",
              "      <th>min</th>\n",
              "      <td>NaN</td>\n",
              "      <td>0.000000e+00</td>\n",
              "      <td>0.000000</td>\n",
              "      <td>1.000000</td>\n",
              "      <td>0.000000</td>\n",
              "      <td>0.000000</td>\n",
              "      <td>0.000000</td>\n",
              "      <td>0.000000</td>\n",
              "      <td>1.000000</td>\n",
              "      <td>0.000000</td>\n",
              "      <td>...</td>\n",
              "      <td>0.000000</td>\n",
              "      <td>0.000000</td>\n",
              "      <td>1.000000</td>\n",
              "      <td>0.000000</td>\n",
              "      <td>0.000000</td>\n",
              "      <td>0.040000</td>\n",
              "      <td>0.000000</td>\n",
              "      <td>0.000000</td>\n",
              "      <td>0.000000</td>\n",
              "      <td>1.000000</td>\n",
              "    </tr>\n",
              "    <tr>\n",
              "      <th>25%</th>\n",
              "      <td>NaN</td>\n",
              "      <td>8.000000e+04</td>\n",
              "      <td>0.000000</td>\n",
              "      <td>4.000000</td>\n",
              "      <td>0.000000</td>\n",
              "      <td>1.000000</td>\n",
              "      <td>1.000000</td>\n",
              "      <td>0.000000</td>\n",
              "      <td>1.000000</td>\n",
              "      <td>0.000000</td>\n",
              "      <td>...</td>\n",
              "      <td>16.000000</td>\n",
              "      <td>289.000000</td>\n",
              "      <td>9.000000</td>\n",
              "      <td>0.000000</td>\n",
              "      <td>0.000000</td>\n",
              "      <td>1.000000</td>\n",
              "      <td>0.111111</td>\n",
              "      <td>36.000000</td>\n",
              "      <td>289.000000</td>\n",
              "      <td>3.000000</td>\n",
              "    </tr>\n",
              "    <tr>\n",
              "      <th>50%</th>\n",
              "      <td>NaN</td>\n",
              "      <td>1.300000e+05</td>\n",
              "      <td>0.000000</td>\n",
              "      <td>5.000000</td>\n",
              "      <td>0.000000</td>\n",
              "      <td>1.000000</td>\n",
              "      <td>1.000000</td>\n",
              "      <td>0.000000</td>\n",
              "      <td>1.000000</td>\n",
              "      <td>0.000000</td>\n",
              "      <td>...</td>\n",
              "      <td>36.000000</td>\n",
              "      <td>961.000000</td>\n",
              "      <td>16.000000</td>\n",
              "      <td>36.000000</td>\n",
              "      <td>1.000000</td>\n",
              "      <td>2.250000</td>\n",
              "      <td>0.444444</td>\n",
              "      <td>81.000000</td>\n",
              "      <td>961.000000</td>\n",
              "      <td>4.000000</td>\n",
              "    </tr>\n",
              "    <tr>\n",
              "      <th>75%</th>\n",
              "      <td>NaN</td>\n",
              "      <td>2.000000e+05</td>\n",
              "      <td>0.000000</td>\n",
              "      <td>6.000000</td>\n",
              "      <td>0.000000</td>\n",
              "      <td>1.000000</td>\n",
              "      <td>1.000000</td>\n",
              "      <td>0.000000</td>\n",
              "      <td>2.000000</td>\n",
              "      <td>1.000000</td>\n",
              "      <td>...</td>\n",
              "      <td>121.000000</td>\n",
              "      <td>2601.000000</td>\n",
              "      <td>25.000000</td>\n",
              "      <td>81.000000</td>\n",
              "      <td>4.000000</td>\n",
              "      <td>4.000000</td>\n",
              "      <td>1.777778</td>\n",
              "      <td>134.560010</td>\n",
              "      <td>2601.000000</td>\n",
              "      <td>4.000000</td>\n",
              "    </tr>\n",
              "    <tr>\n",
              "      <th>max</th>\n",
              "      <td>NaN</td>\n",
              "      <td>2.353477e+06</td>\n",
              "      <td>1.000000</td>\n",
              "      <td>11.000000</td>\n",
              "      <td>1.000000</td>\n",
              "      <td>1.000000</td>\n",
              "      <td>1.000000</td>\n",
              "      <td>1.000000</td>\n",
              "      <td>6.000000</td>\n",
              "      <td>5.000000</td>\n",
              "      <td>...</td>\n",
              "      <td>441.000000</td>\n",
              "      <td>9409.000000</td>\n",
              "      <td>169.000000</td>\n",
              "      <td>441.000000</td>\n",
              "      <td>81.000000</td>\n",
              "      <td>36.000000</td>\n",
              "      <td>64.000000</td>\n",
              "      <td>1369.000000</td>\n",
              "      <td>9409.000000</td>\n",
              "      <td>4.000000</td>\n",
              "    </tr>\n",
              "  </tbody>\n",
              "</table>\n",
              "<p>11 rows × 143 columns</p>\n",
              "</div>"
            ],
            "text/plain": [
              "                  Id          v2a1       hacdor        rooms       hacapo  \\\n",
              "count           9557  2.697000e+03  9557.000000  9557.000000  9557.000000   \n",
              "unique          9557           NaN          NaN          NaN          NaN   \n",
              "top     ID_279628684           NaN          NaN          NaN          NaN   \n",
              "freq               1           NaN          NaN          NaN          NaN   \n",
              "mean             NaN  1.652316e+05     0.038087     4.955530     0.023648   \n",
              "std              NaN  1.504571e+05     0.191417     1.468381     0.151957   \n",
              "min              NaN  0.000000e+00     0.000000     1.000000     0.000000   \n",
              "25%              NaN  8.000000e+04     0.000000     4.000000     0.000000   \n",
              "50%              NaN  1.300000e+05     0.000000     5.000000     0.000000   \n",
              "75%              NaN  2.000000e+05     0.000000     6.000000     0.000000   \n",
              "max              NaN  2.353477e+06     1.000000    11.000000     1.000000   \n",
              "\n",
              "               v14a       refrig         v18q        v18q1         r4h1  ...  \\\n",
              "count   9557.000000  9557.000000  9557.000000  2215.000000  9557.000000  ...   \n",
              "unique          NaN          NaN          NaN          NaN          NaN  ...   \n",
              "top             NaN          NaN          NaN          NaN          NaN  ...   \n",
              "freq            NaN          NaN          NaN          NaN          NaN  ...   \n",
              "mean       0.994768     0.957623     0.231767     1.404063     0.385895  ...   \n",
              "std        0.072145     0.201459     0.421983     0.763131     0.680779  ...   \n",
              "min        0.000000     0.000000     0.000000     1.000000     0.000000  ...   \n",
              "25%        1.000000     1.000000     0.000000     1.000000     0.000000  ...   \n",
              "50%        1.000000     1.000000     0.000000     1.000000     0.000000  ...   \n",
              "75%        1.000000     1.000000     0.000000     2.000000     1.000000  ...   \n",
              "max        1.000000     1.000000     1.000000     6.000000     5.000000  ...   \n",
              "\n",
              "        SQBescolari       SQBage  SQBhogar_total    SQBedjefe  SQBhogar_nin  \\\n",
              "count   9557.000000  9557.000000     9557.000000  9557.000000   9557.000000   \n",
              "unique          NaN          NaN             NaN          NaN           NaN   \n",
              "top             NaN          NaN             NaN          NaN           NaN   \n",
              "freq            NaN          NaN             NaN          NaN           NaN   \n",
              "mean      74.222769  1643.774302       19.132887    53.500262      3.844826   \n",
              "std       76.777549  1741.197050       18.751395    78.445804      6.946296   \n",
              "min        0.000000     0.000000        1.000000     0.000000      0.000000   \n",
              "25%       16.000000   289.000000        9.000000     0.000000      0.000000   \n",
              "50%       36.000000   961.000000       16.000000    36.000000      1.000000   \n",
              "75%      121.000000  2601.000000       25.000000    81.000000      4.000000   \n",
              "max      441.000000  9409.000000      169.000000   441.000000     81.000000   \n",
              "\n",
              "        SQBovercrowding  SQBdependency    SQBmeaned        agesq       Target  \n",
              "count       9557.000000    9557.000000  9552.000000  9557.000000  9557.000000  \n",
              "unique              NaN            NaN          NaN          NaN          NaN  \n",
              "top                 NaN            NaN          NaN          NaN          NaN  \n",
              "freq                NaN            NaN          NaN          NaN          NaN  \n",
              "mean           3.249485       3.900409   102.588867  1643.774302     3.302292  \n",
              "std            4.129547      12.511831    93.516890  1741.197050     1.009565  \n",
              "min            0.040000       0.000000     0.000000     0.000000     1.000000  \n",
              "25%            1.000000       0.111111    36.000000   289.000000     3.000000  \n",
              "50%            2.250000       0.444444    81.000000   961.000000     4.000000  \n",
              "75%            4.000000       1.777778   134.560010  2601.000000     4.000000  \n",
              "max           36.000000      64.000000  1369.000000  9409.000000     4.000000  \n",
              "\n",
              "[11 rows x 143 columns]"
            ]
          },
          "execution_count": 6,
          "metadata": {},
          "output_type": "execute_result"
        }
      ],
      "source": [
        "pd.read_csv(train_csv).describe(include = 'all')"
      ]
    },
    {
      "cell_type": "code",
      "execution_count": 57,
      "metadata": {},
      "outputs": [
        {
          "data": {
            "text/plain": [
              "(9557, 142)"
            ]
          },
          "execution_count": 57,
          "metadata": {},
          "output_type": "execute_result"
        }
      ],
      "source": [
        "data.shape"
      ]
    },
    {
      "cell_type": "code",
      "execution_count": 7,
      "metadata": {},
      "outputs": [
        {
          "data": {
            "text/plain": [
              "<Axes: >"
            ]
          },
          "execution_count": 7,
          "metadata": {},
          "output_type": "execute_result"
        },
        {
          "data": {
            "image/png": "[encoded data removed]",
            "text/plain": [
              "<Figure size 640x480 with 1 Axes>"
            ]
          },
          "metadata": {},
          "output_type": "display_data"
        }
      ],
      "source": [
        "\n",
        "data = prepare(data=data)\n",
        "# target = pd.read_csv(train_csv)[prediction_column]\n",
        "X_train, X_test, y_train, y_test = train_test_split(data, target, test_size=0.4, random_state=42)\n",
        "y_train.hist()"
      ]
    },
    {
      "cell_type": "markdown",
      "metadata": {},
      "source": [
        "### Submission"
      ]
    },
    {
      "cell_type": "code",
      "execution_count": 6,
      "metadata": {},
      "outputs": [],
      "source": [
        "def export_submission(df):\n",
        "    df.to_csv('submission.csv', index=False)"
      ]
    },
    {
      "cell_type": "markdown",
      "metadata": {
        "id": "qhs4mzbbTZM4"
      },
      "source": [
        "### Data Overview"
      ]
    },
    {
      "cell_type": "markdown",
      "metadata": {},
      "source": [
        "### Sampling"
      ]
    },
    {
      "cell_type": "code",
      "execution_count": 8,
      "metadata": {},
      "outputs": [],
      "source": [
        "from imblearn.over_sampling import RandomOverSampler\n",
        "from imblearn.combine import SMOTETomek\n",
        "from imblearn.under_sampling import RandomUnderSampler\n",
        "\n",
        "def oversample(X, y):\n",
        "    ros = RandomOverSampler(random_state=0)\n",
        "    return ros.fit_resample(X, y)\n",
        "\n",
        "def undersample(X, y):\n",
        "    ros = RandomUnderSampler(random_state=0)\n",
        "    return ros.fit_resample(X, y)\n",
        "\n",
        "def smotsample(X, y):\n",
        "    ros = SMOTETomek(sampling_strategy='auto')\n",
        "    return ros.fit_resample(X, y)"
      ]
    },
    {
      "cell_type": "code",
      "execution_count": 9,
      "metadata": {},
      "outputs": [
        {
          "data": {
            "text/plain": [
              "<Axes: >"
            ]
          },
          "execution_count": 9,
          "metadata": {},
          "output_type": "execute_result"
        },
        {
          "data": {
            "image/png": "[encoded data removed]",
            "text/plain": [
              "<Figure size 640x480 with 1 Axes>"
            ]
          },
          "metadata": {},
          "output_type": "display_data"
        }
      ],
      "source": [
        "oversampled_X, oversampled_y = oversample(X_train, y_train)\n",
        "oversampled_y.hist()"
      ]
    },
    {
      "cell_type": "code",
      "execution_count": 10,
      "metadata": {},
      "outputs": [
        {
          "data": {
            "text/plain": [
              "<Axes: >"
            ]
          },
          "execution_count": 10,
          "metadata": {},
          "output_type": "execute_result"
        },
        {
          "data": {
            "image/png": "[encoded data removed]",
            "text/plain": [
              "<Figure size 640x480 with 1 Axes>"
            ]
          },
          "metadata": {},
          "output_type": "display_data"
        }
      ],
      "source": [
        "undersampled_X, undersampled_y = undersample(X_train, y_train)\n",
        "undersampled_y.hist()"
      ]
    },
    {
      "cell_type": "code",
      "execution_count": 6,
      "metadata": {},
      "outputs": [
        {
          "data": {
            "text/plain": [
              "<Axes: >"
            ]
          },
          "execution_count": 6,
          "metadata": {},
          "output_type": "execute_result"
        },
        {
          "data": {
            "image/png": "[encoded data removed]",
            "text/plain": [
              "<Figure size 640x480 with 1 Axes>"
            ]
          },
          "metadata": {},
          "output_type": "display_data"
        }
      ],
      "source": [
        "smotsampled_X, smotsampled_y = smotsample(X_train, y_train)\n",
        "smotsampled_y.hist()"
      ]
    },
    {
      "cell_type": "markdown",
      "metadata": {
        "id": "jlRfcWGhVJ3D"
      },
      "source": [
        "## Ensemble learning"
      ]
    },
    {
      "cell_type": "markdown",
      "metadata": {},
      "source": [
        "### Shared Code"
      ]
    },
    {
      "cell_type": "code",
      "execution_count": 19,
      "metadata": {},
      "outputs": [],
      "source": [
        "from sklearn.ensemble import AdaBoostClassifier\n",
        "from sklearn.tree import DecisionTreeClassifier\n",
        "from sklearn.metrics import accuracy_score\n",
        "from sklearn.model_selection import train_test_split\n",
        "from sklearn.ensemble import GradientBoostingClassifier\n",
        "from sklearn.model_selection import GridSearchCV\n",
        "\n",
        "def train_model(model, train_x, train_y, test_size=0.4, param_grid = None):\n",
        "    X_train, X_test, y_train, y_test = train_test_split(train_x, train_y, test_size=test_size, random_state=42)\n",
        "\n",
        "    if param_grid is not None:\n",
        "        # model = GridSearchCV(model, param_grid, cv=5, scoring='accuracy')\n",
        "        # model = GridSearchCV(model, param_grid, cv=5, scoring='f1') # this works for binary classification\n",
        "        # For multi-class classification = weighted, micro, macro\n",
        "        model = GridSearchCV(model, param_grid, cv=5, scoring='f1_weighted')\n",
        "        \n",
        "    model.fit(X_train, y_train)\n",
        "    predictions = model.predict(X_test)\n",
        "    \n",
        "    accuracy = accuracy_score(y_test, model.predict(X_test))\n",
        "    return model, accuracy\n",
        "\n",
        "def important_features(trained_model):\n",
        "    columns = train[:]\n",
        "    columns = columns.drop(prediction_column, axis=1)\n",
        "    columns = columns.columns\n",
        "    if trained_model.__class__ == GridSearchCV:\n",
        "        trained_model = trained_model.best_estimator_\n",
        "        \n",
        "    feature_importance = pd.DataFrame(trained_model.feature_importances_,\n",
        "                                    index = columns,\n",
        "                                    columns=['importance']).sort_values('importance', ascending=False)\n",
        "    return feature_importance"
      ]
    },
    {
      "cell_type": "markdown",
      "metadata": {
        "id": "dwi0DkoWhzLh"
      },
      "source": [
        "### AdaBoost"
      ]
    },
    {
      "cell_type": "code",
      "execution_count": 20,
      "metadata": {
        "colab": {
          "base_uri": "https://localhost:8080/"
        },
        "id": "t-rQXFXM07cZ",
        "outputId": "a93671f7-da11-4c66-907e-356cdf11d41c"
      },
      "outputs": [
        {
          "name": "stdout",
          "output_type": "stream",
          "text": [
            "AdaBoost training accuracy: 0.4281609195402299\n"
          ]
        }
      ],
      "source": [
        "ada_boost_param_grid = {\n",
        "    # run this when you have time\n",
        "    # 'learning_rate': [0.01, 0.1, 0.5],\n",
        "    # 'base_estimator__max_depth': [3, 5, 7],\n",
        "    # 'base_estimator__min_samples_leaf': [5, 10, 20]\n",
        "\n",
        "    'learning_rate': [0.01],\n",
        "    'estimator__max_depth': [3],\n",
        "    'estimator__min_samples_leaf': [5]\n",
        "}\n",
        "\n",
        "ada_boost_model, training_accuracy = train_model(AdaBoostClassifier(estimator=DecisionTreeClassifier()), undersampled_X, undersampled_y, param_grid=ada_boost_param_grid)\n",
        "print(f\"AdaBoost training accuracy: {training_accuracy}\")\n"
      ]
    },
    {
      "cell_type": "code",
      "execution_count": 13,
      "metadata": {},
      "outputs": [
        {
          "data": {
            "text/html": [
              "<style>#sk-container-id-1 {color: black;}#sk-container-id-1 pre{padding: 0;}#sk-container-id-1 div.sk-toggleable {background-color: white;}#sk-container-id-1 label.sk-toggleable__label {cursor: pointer;display: block;width: 100%;margin-bottom: 0;padding: 0.3em;box-sizing: border-box;text-align: center;}#sk-container-id-1 label.sk-toggleable__label-arrow:before {content: \"▸\";float: left;margin-right: 0.25em;color: #696969;}#sk-container-id-1 label.sk-toggleable__label-arrow:hover:before {color: black;}#sk-container-id-1 div.sk-estimator:hover label.sk-toggleable__label-arrow:before {color: black;}#sk-container-id-1 div.sk-toggleable__content {max-height: 0;max-width: 0;overflow: hidden;text-align: left;background-color: #f0f8ff;}#sk-container-id-1 div.sk-toggleable__content pre {margin: 0.2em;color: black;border-radius: 0.25em;background-color: #f0f8ff;}#sk-container-id-1 input.sk-toggleable__control:checked~div.sk-toggleable__content {max-height: 200px;max-width: 100%;overflow: auto;}#sk-container-id-1 input.sk-toggleable__control:checked~label.sk-toggleable__label-arrow:before {content: \"▾\";}#sk-container-id-1 div.sk-estimator input.sk-toggleable__control:checked~label.sk-toggleable__label {background-color: #d4ebff;}#sk-container-id-1 div.sk-label input.sk-toggleable__control:checked~label.sk-toggleable__label {background-color: #d4ebff;}#sk-container-id-1 input.sk-hidden--visually {border: 0;clip: rect(1px 1px 1px 1px);clip: rect(1px, 1px, 1px, 1px);height: 1px;margin: -1px;overflow: hidden;padding: 0;position: absolute;width: 1px;}#sk-container-id-1 div.sk-estimator {font-family: monospace;background-color: #f0f8ff;border: 1px dotted black;border-radius: 0.25em;box-sizing: border-box;margin-bottom: 0.5em;}#sk-container-id-1 div.sk-estimator:hover {background-color: #d4ebff;}#sk-container-id-1 div.sk-parallel-item::after {content: \"\";width: 100%;border-bottom: 1px solid gray;flex-grow: 1;}#sk-container-id-1 div.sk-label:hover label.sk-toggleable__label {background-color: #d4ebff;}#sk-container-id-1 div.sk-serial::before {content: \"\";position: absolute;border-left: 1px solid gray;box-sizing: border-box;top: 0;bottom: 0;left: 50%;z-index: 0;}#sk-container-id-1 div.sk-serial {display: flex;flex-direction: column;align-items: center;background-color: white;padding-right: 0.2em;padding-left: 0.2em;position: relative;}#sk-container-id-1 div.sk-item {position: relative;z-index: 1;}#sk-container-id-1 div.sk-parallel {display: flex;align-items: stretch;justify-content: center;background-color: white;position: relative;}#sk-container-id-1 div.sk-item::before, #sk-container-id-1 div.sk-parallel-item::before {content: \"\";position: absolute;border-left: 1px solid gray;box-sizing: border-box;top: 0;bottom: 0;left: 50%;z-index: -1;}#sk-container-id-1 div.sk-parallel-item {display: flex;flex-direction: column;z-index: 1;position: relative;background-color: white;}#sk-container-id-1 div.sk-parallel-item:first-child::after {align-self: flex-end;width: 50%;}#sk-container-id-1 div.sk-parallel-item:last-child::after {align-self: flex-start;width: 50%;}#sk-container-id-1 div.sk-parallel-item:only-child::after {width: 0;}#sk-container-id-1 div.sk-dashed-wrapped {border: 1px dashed gray;margin: 0 0.4em 0.5em 0.4em;box-sizing: border-box;padding-bottom: 0.4em;background-color: white;}#sk-container-id-1 div.sk-label label {font-family: monospace;font-weight: bold;display: inline-block;line-height: 1.2em;}#sk-container-id-1 div.sk-label-container {text-align: center;}#sk-container-id-1 div.sk-container {/* jupyter's `normalize.less` sets `[hidden] { display: none; }` but bootstrap.min.css set `[hidden] { display: none !important; }` so we also need the `!important` here to be able to override the default hidden behavior on the sphinx rendered scikit-learn.org. See: https://github.com/scikit-learn/scikit-learn/issues/21755 */display: inline-block !important;position: relative;}#sk-container-id-1 div.sk-text-repr-fallback {display: none;}</style><div id=\"sk-container-id-1\" class=\"sk-top-container\"><div class=\"sk-text-repr-fallback\"><pre>GridSearchCV(cv=5,\n",
              "             estimator=AdaBoostClassifier(estimator=DecisionTreeClassifier()),\n",
              "             param_grid={&#x27;estimator__max_depth&#x27;: [3],\n",
              "                         &#x27;estimator__min_samples_leaf&#x27;: [5],\n",
              "                         &#x27;learning_rate&#x27;: [0.01]},\n",
              "             scoring=&#x27;accuracy&#x27;)</pre><b>In a Jupyter environment, please rerun this cell to show the HTML representation or trust the notebook. <br />On GitHub, the HTML representation is unable to render, please try loading this page with nbviewer.org.</b></div><div class=\"sk-container\" hidden><div class=\"sk-item sk-dashed-wrapped\"><div class=\"sk-label-container\"><div class=\"sk-label sk-toggleable\"><input class=\"sk-toggleable__control sk-hidden--visually\" id=\"sk-estimator-id-1\" type=\"checkbox\" ><label for=\"sk-estimator-id-1\" class=\"sk-toggleable__label sk-toggleable__label-arrow\">GridSearchCV</label><div class=\"sk-toggleable__content\"><pre>GridSearchCV(cv=5,\n",
              "             estimator=AdaBoostClassifier(estimator=DecisionTreeClassifier()),\n",
              "             param_grid={&#x27;estimator__max_depth&#x27;: [3],\n",
              "                         &#x27;estimator__min_samples_leaf&#x27;: [5],\n",
              "                         &#x27;learning_rate&#x27;: [0.01]},\n",
              "             scoring=&#x27;accuracy&#x27;)</pre></div></div></div><div class=\"sk-parallel\"><div class=\"sk-parallel-item\"><div class=\"sk-item\"><div class=\"sk-label-container\"><div class=\"sk-label sk-toggleable\"><input class=\"sk-toggleable__control sk-hidden--visually\" id=\"sk-estimator-id-2\" type=\"checkbox\" ><label for=\"sk-estimator-id-2\" class=\"sk-toggleable__label sk-toggleable__label-arrow\">estimator: AdaBoostClassifier</label><div class=\"sk-toggleable__content\"><pre>AdaBoostClassifier(estimator=DecisionTreeClassifier())</pre></div></div></div><div class=\"sk-serial\"><div class=\"sk-item sk-dashed-wrapped\"><div class=\"sk-parallel\"><div class=\"sk-parallel-item\"><div class=\"sk-item\"><div class=\"sk-label-container\"><div class=\"sk-label sk-toggleable\"><input class=\"sk-toggleable__control sk-hidden--visually\" id=\"sk-estimator-id-3\" type=\"checkbox\" ><label for=\"sk-estimator-id-3\" class=\"sk-toggleable__label sk-toggleable__label-arrow\">estimator: DecisionTreeClassifier</label><div class=\"sk-toggleable__content\"><pre>DecisionTreeClassifier()</pre></div></div></div><div class=\"sk-serial\"><div class=\"sk-item\"><div class=\"sk-estimator sk-toggleable\"><input class=\"sk-toggleable__control sk-hidden--visually\" id=\"sk-estimator-id-4\" type=\"checkbox\" ><label for=\"sk-estimator-id-4\" class=\"sk-toggleable__label sk-toggleable__label-arrow\">DecisionTreeClassifier</label><div class=\"sk-toggleable__content\"><pre>DecisionTreeClassifier()</pre></div></div></div></div></div></div></div></div></div></div></div></div></div></div></div>"
            ],
            "text/plain": [
              "GridSearchCV(cv=5,\n",
              "             estimator=AdaBoostClassifier(estimator=DecisionTreeClassifier()),\n",
              "             param_grid={'estimator__max_depth': [3],\n",
              "                         'estimator__min_samples_leaf': [5],\n",
              "                         'learning_rate': [0.01]},\n",
              "             scoring='accuracy')"
            ]
          },
          "execution_count": 13,
          "metadata": {},
          "output_type": "execute_result"
        }
      ],
      "source": [
        "ada_boost_model"
      ]
    },
    {
      "cell_type": "code",
      "execution_count": 14,
      "metadata": {},
      "outputs": [
        {
          "data": {
            "text/plain": [
              "{'estimator__max_depth': 3,\n",
              " 'estimator__min_samples_leaf': 5,\n",
              " 'learning_rate': 0.01}"
            ]
          },
          "execution_count": 14,
          "metadata": {},
          "output_type": "execute_result"
        }
      ],
      "source": [
        "ada_boost_model.best_params_"
      ]
    },
    {
      "cell_type": "code",
      "execution_count": null,
      "metadata": {},
      "outputs": [],
      "source": [
        "important_features(ada_boost_model)"
      ]
    },
    {
      "cell_type": "markdown",
      "metadata": {},
      "source": [
        "### Gradient Boosting"
      ]
    },
    {
      "cell_type": "code",
      "execution_count": 16,
      "metadata": {},
      "outputs": [
        {
          "name": "stdout",
          "output_type": "stream",
          "text": [
            "GradientBoost training accuracy: 0.5330459770114943\n"
          ]
        }
      ],
      "source": [
        "gradient_boost_param_grid = {\n",
        "    # Run this at before going to sleep\n",
        "    # 'learning_rate': [0.01, 0.1, 0.5],\n",
        "    # 'max_depth': [3, 5, 7],\n",
        "    # 'min_samples_leaf': [5, 10, 20]\n",
        "\n",
        "    'learning_rate': [0.1],\n",
        "    'max_depth': [3],\n",
        "    'min_samples_leaf': [5]\n",
        "}\n",
        "\n",
        "gradient_boost_model, training_accuracy = train_model(GradientBoostingClassifier(), undersampled_X, undersampled_y, param_grid=gradient_boost_param_grid)\n",
        "print(f\"GradientBoost training accuracy: {training_accuracy}\")\n"
      ]
    },
    {
      "cell_type": "code",
      "execution_count": 52,
      "metadata": {},
      "outputs": [
        {
          "data": {
            "text/plain": [
              "sklearn.model_selection._search.GridSearchCV"
            ]
          },
          "execution_count": 52,
          "metadata": {},
          "output_type": "execute_result"
        }
      ],
      "source": [
        "gradient_boost_model.__class__"
      ]
    },
    {
      "cell_type": "code",
      "execution_count": 53,
      "metadata": {},
      "outputs": [
        {
          "data": {
            "text/html": [
              "<div>\n",
              "<style scoped>\n",
              "    .dataframe tbody tr th:only-of-type {\n",
              "        vertical-align: middle;\n",
              "    }\n",
              "\n",
              "    .dataframe tbody tr th {\n",
              "        vertical-align: top;\n",
              "    }\n",
              "\n",
              "    .dataframe thead th {\n",
              "        text-align: right;\n",
              "    }\n",
              "</style>\n",
              "<table border=\"1\" class=\"dataframe\">\n",
              "  <thead>\n",
              "    <tr style=\"text-align: right;\">\n",
              "      <th></th>\n",
              "      <th>importance</th>\n",
              "    </tr>\n",
              "  </thead>\n",
              "  <tbody>\n",
              "    <tr>\n",
              "      <th>SQBdependency</th>\n",
              "      <td>0.112112</td>\n",
              "    </tr>\n",
              "    <tr>\n",
              "      <th>meaneduc</th>\n",
              "      <td>0.108947</td>\n",
              "    </tr>\n",
              "    <tr>\n",
              "      <th>SQBmeaned</th>\n",
              "      <td>0.094643</td>\n",
              "    </tr>\n",
              "    <tr>\n",
              "      <th>SQBhogar_nin</th>\n",
              "      <td>0.052052</td>\n",
              "    </tr>\n",
              "    <tr>\n",
              "      <th>qmobilephone</th>\n",
              "      <td>0.042270</td>\n",
              "    </tr>\n",
              "    <tr>\n",
              "      <th>...</th>\n",
              "      <td>...</td>\n",
              "    </tr>\n",
              "    <tr>\n",
              "      <th>instlevel2</th>\n",
              "      <td>0.000000</td>\n",
              "    </tr>\n",
              "    <tr>\n",
              "      <th>instlevel4</th>\n",
              "      <td>0.000000</td>\n",
              "    </tr>\n",
              "    <tr>\n",
              "      <th>instlevel9</th>\n",
              "      <td>0.000000</td>\n",
              "    </tr>\n",
              "    <tr>\n",
              "      <th>instlevel8</th>\n",
              "      <td>0.000000</td>\n",
              "    </tr>\n",
              "    <tr>\n",
              "      <th>parentesco1</th>\n",
              "      <td>0.000000</td>\n",
              "    </tr>\n",
              "  </tbody>\n",
              "</table>\n",
              "<p>137 rows × 1 columns</p>\n",
              "</div>"
            ],
            "text/plain": [
              "               importance\n",
              "SQBdependency    0.112112\n",
              "meaneduc         0.108947\n",
              "SQBmeaned        0.094643\n",
              "SQBhogar_nin     0.052052\n",
              "qmobilephone     0.042270\n",
              "...                   ...\n",
              "instlevel2       0.000000\n",
              "instlevel4       0.000000\n",
              "instlevel9       0.000000\n",
              "instlevel8       0.000000\n",
              "parentesco1      0.000000\n",
              "\n",
              "[137 rows x 1 columns]"
            ]
          },
          "execution_count": 53,
          "metadata": {},
          "output_type": "execute_result"
        }
      ],
      "source": [
        "important_features(gradient_boost_model)"
      ]
    },
    {
      "cell_type": "markdown",
      "metadata": {},
      "source": [
        "### XGBoost"
      ]
    },
    {
      "cell_type": "code",
      "execution_count": 72,
      "metadata": {},
      "outputs": [],
      "source": [
        "import xgboost as xgb\n",
        "from sklearn.preprocessing import LabelEncoder\n",
        "le = LabelEncoder()\n",
        "\n",
        "def train_xgboost_model(train, xgb_params, test_size=0.2):\n",
        "    train = train[:]\n",
        "    X = train.drop(prediction_column, axis=1)\n",
        "    y = train[prediction_column]\n",
        "    \n",
        "\n",
        "    X_train, X_test, y_train, y_test = train_test_split(X, y, test_size=0.2, random_state=101)\n",
        "    train_labels = le.fit_transform(y_train)\n",
        "    val_labels = le.transform(y_test)\n",
        "\n",
        "    dtrain = xgb.DMatrix(X_train, label=train_labels, enable_categorical=True)\n",
        "    dval = xgb.DMatrix(X_test, label=val_labels, enable_categorical=True)\n",
        "    eval_set = [(dtrain, 'train'), (dval, 'eval')]\n",
        "    \n",
        "    xgb_model = xgb.train(\n",
        "        xgb_params, \n",
        "        dtrain, \n",
        "        num_boost_round=1000, \n",
        "        evals=eval_set, \n",
        "        early_stopping_rounds=10, \n",
        "        verbose_eval=False\n",
        "    )\n",
        "    accuracy = accuracy_score(val_labels, xgb_model.predict(dval))\n",
        "\n",
        "    return xgb_model, accuracy\n",
        "\n",
        "def xgb_feature_importance(xgb_model):\n",
        "    feature_importance = xgb_model.get_score(importance_type='weight')\n",
        "    feature_importance_df = pd.DataFrame({\n",
        "        'Feature': list(feature_importance.keys()),\n",
        "        'Importance': list(feature_importance.values())\n",
        "    })\n",
        "    feature_importance_df.sort_values(by='Importance', ascending=False).head(5)\n",
        "    return feature_importance_df"
      ]
    },
    {
      "cell_type": "code",
      "execution_count": 73,
      "metadata": {},
      "outputs": [
        {
          "name": "stdout",
          "output_type": "stream",
          "text": [
            "XGBoost training accuracy: 0.9257322175732218\n"
          ]
        }
      ],
      "source": [
        "xgb_params = {\n",
        "    \"objective\": \"multi:softmax\", \n",
        "    \"num_class\": 4,\n",
        "    \"eval_metric\": \"merror\"\n",
        "}\n",
        "\n",
        "xgb_model, training_accuracy = train_xgboost_model(train, xgb_params)\n",
        "print(f\"XGBoost training accuracy: {training_accuracy}\")"
      ]
    },
    {
      "cell_type": "code",
      "execution_count": 74,
      "metadata": {},
      "outputs": [
        {
          "data": {
            "text/html": [
              "<div>\n",
              "<style scoped>\n",
              "    .dataframe tbody tr th:only-of-type {\n",
              "        vertical-align: middle;\n",
              "    }\n",
              "\n",
              "    .dataframe tbody tr th {\n",
              "        vertical-align: top;\n",
              "    }\n",
              "\n",
              "    .dataframe thead th {\n",
              "        text-align: right;\n",
              "    }\n",
              "</style>\n",
              "<table border=\"1\" class=\"dataframe\">\n",
              "  <thead>\n",
              "    <tr style=\"text-align: right;\">\n",
              "      <th></th>\n",
              "      <th>Feature</th>\n",
              "      <th>Importance</th>\n",
              "    </tr>\n",
              "  </thead>\n",
              "  <tbody>\n",
              "    <tr>\n",
              "      <th>0</th>\n",
              "      <td>v2a1</td>\n",
              "      <td>750.0</td>\n",
              "    </tr>\n",
              "    <tr>\n",
              "      <th>1</th>\n",
              "      <td>hacdor</td>\n",
              "      <td>33.0</td>\n",
              "    </tr>\n",
              "    <tr>\n",
              "      <th>2</th>\n",
              "      <td>rooms</td>\n",
              "      <td>838.0</td>\n",
              "    </tr>\n",
              "    <tr>\n",
              "      <th>3</th>\n",
              "      <td>hacapo</td>\n",
              "      <td>14.0</td>\n",
              "    </tr>\n",
              "    <tr>\n",
              "      <th>4</th>\n",
              "      <td>v14a</td>\n",
              "      <td>12.0</td>\n",
              "    </tr>\n",
              "    <tr>\n",
              "      <th>...</th>\n",
              "      <td>...</td>\n",
              "      <td>...</td>\n",
              "    </tr>\n",
              "    <tr>\n",
              "      <th>117</th>\n",
              "      <td>area1</td>\n",
              "      <td>290.0</td>\n",
              "    </tr>\n",
              "    <tr>\n",
              "      <th>118</th>\n",
              "      <td>age</td>\n",
              "      <td>1131.0</td>\n",
              "    </tr>\n",
              "    <tr>\n",
              "      <th>119</th>\n",
              "      <td>SQBedjefe</td>\n",
              "      <td>1046.0</td>\n",
              "    </tr>\n",
              "    <tr>\n",
              "      <th>120</th>\n",
              "      <td>SQBdependency</td>\n",
              "      <td>799.0</td>\n",
              "    </tr>\n",
              "    <tr>\n",
              "      <th>121</th>\n",
              "      <td>SQBmeaned</td>\n",
              "      <td>38.0</td>\n",
              "    </tr>\n",
              "  </tbody>\n",
              "</table>\n",
              "<p>122 rows × 2 columns</p>\n",
              "</div>"
            ],
            "text/plain": [
              "           Feature  Importance\n",
              "0             v2a1       750.0\n",
              "1           hacdor        33.0\n",
              "2            rooms       838.0\n",
              "3           hacapo        14.0\n",
              "4             v14a        12.0\n",
              "..             ...         ...\n",
              "117          area1       290.0\n",
              "118            age      1131.0\n",
              "119      SQBedjefe      1046.0\n",
              "120  SQBdependency       799.0\n",
              "121      SQBmeaned        38.0\n",
              "\n",
              "[122 rows x 2 columns]"
            ]
          },
          "execution_count": 74,
          "metadata": {},
          "output_type": "execute_result"
        }
      ],
      "source": [
        "feature_importance_df = xgb_feature_importance(xgb_model)\n",
        "feature_importance_df"
      ]
    },
    {
      "cell_type": "code",
      "execution_count": null,
      "metadata": {},
      "outputs": [],
      "source": [
        "def hetrogeneous_ensemble_with_cnn(ada_boost_model, gradient_boost_model, xgb_model, train_x, train_y):\n",
        "    X_train, X_test, y_train, y_test = train_test_split(train_x, train_y, test_size=0.4, random_state=42)\n",
        "    # TODO: combination of ensemble models with CNN\n",
        "   \n",
        "    "
      ]
    },
    {
      "cell_type": "markdown",
      "metadata": {},
      "source": [
        "## Tasks\n",
        "- ✅ A working setup for Ensemble learning with AdaBoost, Gradient Boosting and XGBoost\n",
        "- ✅ Feature importance for the different models\n",
        "- ✅ Compare the different models accuracy\n",
        "- ✅ Add different data preprocessing methods\n",
        "- ✅ Balance dataset by undersampling, and possibly oversampling\n",
        "- ❌ Find optimum parameter for the different models\n",
        "- ❌ Performance Metric\n",
        "- ❌ Heterogeneous ensemble with simple CNN"
      ]
    }
  ],
  "metadata": {
    "colab": {
      "provenance": [],
      "toc_visible": true
    },
    "kernelspec": {
      "display_name": ".venv",
      "language": "python",
      "name": "python3"
    },
    "language_info": {
      "codemirror_mode": {
        "name": "ipython",
        "version": 3
      },
      "file_extension": ".py",
      "mimetype": "text/x-python",
      "name": "python",
      "nbconvert_exporter": "python",
      "pygments_lexer": "ipython3",
      "version": "3.11.4"
    },
    "polyglot_notebook": {
      "kernelInfo": {
        "defaultKernelName": "csharp",
        "items": [
          {
            "aliases": [],
            "name": "csharp"
          }
        ]
      }
    }
  },
  "nbformat": 4,
  "nbformat_minor": 0
}
